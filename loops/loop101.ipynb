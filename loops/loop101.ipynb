{
 "cells": [
  {
   "cell_type": "heading",
   "metadata": {},
   "level": 1,
   "source": [
    "deterministic loop"
   ]
  },
  {
   "cell_type": "code",
   "execution_count": 1,
   "metadata": {
    "collapsed": true
   },
   "outputs": [
    {
     "name": "stdout",
     "output_type": "stream",
     "text": [
      "5\n4\n3\n2\n1\ndone\n"
     ]
    }
   ],
   "source": [
    "# deterministic loop\n",
    "i = 5\n",
    "while i >= 1:\n",
    "    print(i)\n",
    "    i -= 1\n",
    "print('done')\n"
   ]
  },
  {
   "cell_type": "heading",
   "metadata": {},
   "level": 1,
   "source": [
    ""
   ]
  },
  {
   "cell_type": "heading",
   "metadata": {},
   "level": 1,
   "source": [
    "find the max value"
   ]
  },
  {
   "cell_type": "code",
   "execution_count": 4,
   "metadata": {},
   "outputs": [
    {
     "name": "stdout",
     "output_type": "stream",
     "text": [
      "9\n"
     ]
    }
   ],
   "source": [
    "# find the max value\n",
    "l1 = [1,3,4,7,3, 9, 3]\n",
    "max = l1[0]\n",
    "for num in l1:\n",
    "    if num > max:\n",
    "        max = num\n",
    "print(max)"
   ]
  },
  {
   "cell_type": "heading",
   "metadata": {},
   "level": 1,
   "source": [
    "Change members of a list"
   ]
  },
  {
   "cell_type": "code",
   "execution_count": 5,
   "metadata": {},
   "outputs": [
    {
     "name": "stdout",
     "output_type": "stream",
     "text": [
      "before [1, 3, 4, 7, 3, 9, 3]\nafter [1, 13, 4, 7, 13, 9, 13]\n"
     ]
    }
   ],
   "source": [
    "l1 = [1, 3, 4, 7, 3, 9, 3]\n",
    "number = 3\n",
    "new_value = 13\n",
    "print('before', l1)\n",
    "for i in range(len(l1)):\n",
    "    if l1[i] == number:\n",
    "        l1[i] = new_value\n",
    "print('after', l1)\n"
   ]
  },
  {
   "cell_type": "code",
   "execution_count": 6,
   "metadata": {},
   "outputs": [
    {
     "name": "stdout",
     "output_type": "stream",
     "text": [
      "before [1, 3, 4, 7, 3, 9, 3]\nafter [1, 3, 4, 9, 3, 11, 3]\n"
     ]
    }
   ],
   "source": [
    "l1 = [1, 3, 4, 7, 3, 9, 3]\n",
    "print('before', l1)\n",
    "for i in range(len(l1)):\n",
    "    if l1[i] > 5:\n",
    "        l1[i] += 2\n",
    "print('after', l1)\n"
   ]
  },
  {
   "cell_type": "heading",
   "metadata": {},
   "level": 1,
   "source": [
    "Search "
   ]
  },
  {
   "cell_type": "code",
   "execution_count": 7,
   "metadata": {},
   "outputs": [
    {
     "name": "stdout",
     "output_type": "stream",
     "text": [
      "1\n"
     ]
    }
   ],
   "source": [
    "l1 = [1, 3, 4, 7, 3, 9, 3]\n",
    "key = 3\n",
    "for i in range(len(l1)):\n",
    "    if l1[i] == key:\n",
    "        print(i)\n",
    "        break\n"
   ]
  },
  {
   "cell_type": "heading",
   "metadata": {},
   "level": 1,
   "source": [
    "Loop on a list - 2 ways"
   ]
  },
  {
   "cell_type": "code",
   "execution_count": 8,
   "metadata": {},
   "outputs": [
    {
     "name": "stdout",
     "output_type": "stream",
     "text": [
      "index: 0 value 1\nindex: 1 value 3\nindex: 2 value 4\nindex: 3 value 7\nindex: 4 value 3\nindex: 5 value 9\nindex: 6 value 3\n----\n1\n3\n4\n7\n3\n9\n3\n"
     ]
    }
   ],
   "source": [
    "# for using range\n",
    "# for using iteration variable\n",
    "l1 = [1, 3, 4, 7, 3, 9, 3]\n",
    "for i in range(len(l1)): # index \n",
    "    print('index:', i, 'value', l1[i])\n",
    "print('----')\n",
    "for number in l1: # iteration variable\n",
    "    print(number)"
   ]
  },
  {
   "cell_type": "code",
   "execution_count": null,
   "metadata": {},
   "outputs": [],
   "source": []
  }
 ],
 "metadata": {
  "kernelspec": {
   "display_name": "Python 2",
   "language": "python",
   "name": "python2"
  },
  "language_info": {
   "codemirror_mode": {
    "name": "ipython",
    "version": 2
   },
   "file_extension": ".py",
   "mimetype": "text/x-python",
   "name": "python",
   "nbconvert_exporter": "python",
   "pygments_lexer": "ipython2",
   "version": "2.7.6"
  }
 },
 "nbformat": 4,
 "nbformat_minor": 0
}

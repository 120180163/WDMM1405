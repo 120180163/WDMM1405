{
 "cells": [
  {
   "cell_type": "markdown",
   "metadata": {
    "collapsed": true
   },
   "source": [
    "# primitive data: one value in variable "
   ]
  },
  {
   "cell_type": "code",
   "execution_count": 3,
   "metadata": {},
   "outputs": [
    {
     "name": "stdout",
     "output_type": "stream",
     "text": [
      "10\n",
      "20\n"
     ]
    }
   ],
   "source": [
    "x = 10 \n",
    "print(x)\n",
    "x = 20 \n",
    "print(x)"
   ]
  },
  {
   "cell_type": "code",
   "execution_count": 10,
   "metadata": {},
   "outputs": [],
   "source": [
    "# store more than one value in one variable (collection)"
   ]
  },
  {
   "cell_type": "code",
   "execution_count": 4,
   "metadata": {},
   "outputs": [
    {
     "name": "stdout",
     "output_type": "stream",
     "text": [
      "[10, 20]\n"
     ]
    }
   ],
   "source": [
    "x = [10, 20]\n",
    "print(x)"
   ]
  },
  {
   "cell_type": "code",
   "execution_count": 11,
   "metadata": {},
   "outputs": [
    {
     "name": "stdout",
     "output_type": "stream",
     "text": [
      "[10, 'Ahmed']\n"
     ]
    }
   ],
   "source": [
    "# differet types in one collection \n",
    "x = [10, 'Ahmed']\n",
    "print(x)"
   ]
  },
  {
   "cell_type": "code",
   "execution_count": 12,
   "metadata": {},
   "outputs": [
    {
     "name": "stdout",
     "output_type": "stream",
     "text": [
      "3\n",
      "[1, 24, 76]\n"
     ]
    }
   ],
   "source": [
    "# list constant \n",
    "print(3)\n",
    "print([1, 24, 76])"
   ]
  },
  {
   "cell_type": "code",
   "execution_count": 13,
   "metadata": {},
   "outputs": [
    {
     "name": "stdout",
     "output_type": "stream",
     "text": [
      "['red', 24, 98.6]\n"
     ]
    }
   ],
   "source": [
    "# different types: int, float, str \n",
    "print(['red', 24, 98.6])\n"
   ]
  },
  {
   "cell_type": "code",
   "execution_count": 15,
   "metadata": {},
   "outputs": [
    {
     "name": "stdout",
     "output_type": "stream",
     "text": [
      "[1, [5, 6], 7]\n",
      "1\n",
      "[5, 6]\n",
      "5\n"
     ]
    }
   ],
   "source": [
    "# list in a list / collection in a collection \n",
    "x = [ 1, [5, 6], 7]\n",
    "print(x)\n",
    "print(x[0])\n",
    "print(x[1])\n",
    "print(x[1][0])\n",
    "\n"
   ]
  },
  {
   "cell_type": "code",
   "execution_count": 16,
   "metadata": {},
   "outputs": [
    {
     "name": "stdout",
     "output_type": "stream",
     "text": [
      "[]\n"
     ]
    }
   ],
   "source": [
    "# empty list \n",
    "x = []\n",
    "print(x)"
   ]
  },
  {
   "cell_type": "code",
   "execution_count": 18,
   "metadata": {},
   "outputs": [
    {
     "name": "stdout",
     "output_type": "stream",
     "text": [
      "5\n",
      "4\n",
      "3\n",
      "2\n",
      "1\n",
      "Blastoff!\n"
     ]
    }
   ],
   "source": [
    "# iteration variable \n",
    "for num in [5, 4, 3, 2, 1] :\n",
    "    print(num)\n",
    "print('Blastoff!')\n"
   ]
  },
  {
   "cell_type": "code",
   "execution_count": 19,
   "metadata": {},
   "outputs": [
    {
     "name": "stdout",
     "output_type": "stream",
     "text": [
      "Happy New Year: Joseph\n",
      "Happy New Year: Glenn\n",
      "Happy New Year: Sally\n",
      "Done!\n"
     ]
    }
   ],
   "source": [
    "# iteration variable \n",
    "friends = ['Joseph', 'Glenn', 'Sally']\n",
    "for name in friends :\n",
    "    print('Happy New Year:',  name)\n",
    "print('Done!')\n"
   ]
  },
  {
   "cell_type": "code",
   "execution_count": 22,
   "metadata": {},
   "outputs": [
    {
     "name": "stdout",
     "output_type": "stream",
     "text": [
      "Glenn\n"
     ]
    }
   ],
   "source": [
    "# access elements by index \n",
    "print(friends[1])"
   ]
  },
  {
   "cell_type": "code",
   "execution_count": 23,
   "metadata": {},
   "outputs": [
    {
     "name": "stdout",
     "output_type": "stream",
     "text": [
      "['Joseph', 'Ahmed', 'Sally']\n"
     ]
    }
   ],
   "source": [
    "# mutable list \n",
    "friends[1] = 'Ahmed'\n",
    "print(friends)"
   ]
  },
  {
   "cell_type": "code",
   "execution_count": 31,
   "metadata": {},
   "outputs": [
    {
     "name": "stdout",
     "output_type": "stream",
     "text": [
      "banana\n",
      "a\n",
      "['b', 'a', 'n', 'a', 'n', 'a']\n",
      "['b', 'e', 'n', 'a', 'n', 'a']\n",
      "benana\n"
     ]
    }
   ],
   "source": [
    "# imutable list \n",
    "fruite = 'banana'\n",
    "print(fruite)\n",
    "print(fruite[1])\n",
    "# fruite[1] = 'e'\n",
    "# convert to mutable \n",
    "f = list(fruite)\n",
    "print(f) # mutable \n",
    "f[1] = 'e'\n",
    "print(f)\n",
    "fruite = str(''.join(f))\n",
    "print(fruite)"
   ]
  },
  {
   "cell_type": "code",
   "execution_count": 34,
   "metadata": {},
   "outputs": [
    {
     "name": "stdout",
     "output_type": "stream",
     "text": [
      "[1, 3, 10, 19]\n",
      "131019\n"
     ]
    }
   ],
   "source": [
    "# join list \n",
    "l1 = [1, 3, 10, 19]\n",
    "print(l1)\n",
    "l2 = [str(x) for x in l1]\n",
    "print(''.join(l2))"
   ]
  },
  {
   "cell_type": "code",
   "execution_count": 35,
   "metadata": {},
   "outputs": [
    {
     "name": "stdout",
     "output_type": "stream",
     "text": [
      "Happy New Year: Joseph\n",
      "Happy New Year: Glenn\n",
      "Happy New Year: Sally\n"
     ]
    }
   ],
   "source": [
    "# loop on list \n",
    "friends = ['Joseph', 'Glenn', 'Sally']\n",
    "# way 1: iteration variable \n",
    "for friend in friends :\n",
    "    print('Happy New Year:',  friend)\n"
   ]
  },
  {
   "cell_type": "code",
   "execution_count": 36,
   "metadata": {},
   "outputs": [
    {
     "name": "stdout",
     "output_type": "stream",
     "text": [
      "Happy New Year: Joseph\n",
      "Happy New Year: Glenn\n",
      "Happy New Year: Sally\n"
     ]
    }
   ],
   "source": [
    "# loop on list \n",
    "friends = ['Joseph', 'Glenn', 'Sally']\n",
    "# way 2: index \n",
    "for i in range(len(friends)) :\n",
    "    print('Happy New Year:',  friends[i])\n"
   ]
  },
  {
   "cell_type": "code",
   "execution_count": 39,
   "metadata": {},
   "outputs": [
    {
     "name": "stdout",
     "output_type": "stream",
     "text": [
      "[1, 2, 3, 4, 5, 6]\n"
     ]
    }
   ],
   "source": [
    "a = [1, 2, 3]\n",
    "b = [4, 5, 6]\n",
    "# concat \n",
    "c = a + b \n",
    "print(c)\n",
    "# d = a - b # error "
   ]
  },
  {
   "cell_type": "code",
   "execution_count": 40,
   "metadata": {},
   "outputs": [
    {
     "name": "stdout",
     "output_type": "stream",
     "text": [
      "[5, 7, 9]\n"
     ]
    }
   ],
   "source": [
    "# sum 2 lists \n",
    "a = [1, 2, 3]\n",
    "b = [4, 5, 6]\n",
    "c = [a[i] + b[i] for i in range(len(a))]\n",
    "print(c)"
   ]
  },
  {
   "cell_type": "code",
   "execution_count": 47,
   "metadata": {},
   "outputs": [
    {
     "name": "stdout",
     "output_type": "stream",
     "text": [
      "[9, 41, 12, 3, 74, 15]\n",
      "[12, 3]\n",
      "[12, 3, 74, 15]\n",
      "[9, 41, 12, 3]\n"
     ]
    }
   ],
   "source": [
    "# slicing a list \n",
    "t = [9, 41, 12, 3, 74, 15]\n",
    "print(t)\n",
    "print(t[2:4]) # index 2, 3 \n",
    "print(t[2:]) # index 2 to the end \n",
    "print(t[:4]) # index 0 to 3 \n"
   ]
  },
  {
   "cell_type": "code",
   "execution_count": 58,
   "metadata": {},
   "outputs": [
    {
     "data": {
      "text/plain": [
       "['__add__',\n",
       " '__class__',\n",
       " '__contains__',\n",
       " '__delattr__',\n",
       " '__delitem__',\n",
       " '__dir__',\n",
       " '__doc__',\n",
       " '__eq__',\n",
       " '__format__',\n",
       " '__ge__',\n",
       " '__getattribute__',\n",
       " '__getitem__',\n",
       " '__gt__',\n",
       " '__hash__',\n",
       " '__iadd__',\n",
       " '__imul__',\n",
       " '__init__',\n",
       " '__init_subclass__',\n",
       " '__iter__',\n",
       " '__le__',\n",
       " '__len__',\n",
       " '__lt__',\n",
       " '__mul__',\n",
       " '__ne__',\n",
       " '__new__',\n",
       " '__reduce__',\n",
       " '__reduce_ex__',\n",
       " '__repr__',\n",
       " '__reversed__',\n",
       " '__rmul__',\n",
       " '__setattr__',\n",
       " '__setitem__',\n",
       " '__sizeof__',\n",
       " '__str__',\n",
       " '__subclasshook__',\n",
       " 'append',\n",
       " 'clear',\n",
       " 'copy',\n",
       " 'count',\n",
       " 'extend',\n",
       " 'index',\n",
       " 'insert',\n",
       " 'pop',\n",
       " 'remove',\n",
       " 'reverse',\n",
       " 'sort']"
      ]
     },
     "execution_count": 58,
     "metadata": {},
     "output_type": "execute_result"
    }
   ],
   "source": [
    "# list mehtods \n",
    "t = [9, 41, 12, 3, 74, 15]\n",
    "dir(t)"
   ]
  },
  {
   "cell_type": "code",
   "execution_count": 49,
   "metadata": {},
   "outputs": [
    {
     "name": "stdout",
     "output_type": "stream",
     "text": [
      "[9, 41, 12, 3, 74, 15]\n",
      "[9, 41, 12, 3, 74, 15, 10]\n"
     ]
    }
   ],
   "source": [
    "print(t)\n",
    "t.append(10) # add 3 to the end of the list \n",
    "print(t)"
   ]
  },
  {
   "cell_type": "code",
   "execution_count": 52,
   "metadata": {},
   "outputs": [
    {
     "name": "stdout",
     "output_type": "stream",
     "text": [
      "before sum: c =  []\n",
      "0 [5]\n",
      "1 [5, 7]\n",
      "2 [5, 7, 9]\n"
     ]
    }
   ],
   "source": [
    "# sum 2 lists using empty list with append \n",
    "a = [1, 2, 3]\n",
    "b = [4, 5, 6]\n",
    "c = []\n",
    "print('before sum: c = ', c)\n",
    "list_size = len(a)\n",
    "for i in range(list_size):\n",
    "    r = a[i] + b[i]\n",
    "    c.append(r)\n",
    "    print(i, c)"
   ]
  },
  {
   "cell_type": "code",
   "execution_count": 65,
   "metadata": {},
   "outputs": [
    {
     "name": "stdout",
     "output_type": "stream",
     "text": [
      "[9, 41, 12, 3, 74, 15]\n",
      "1\n",
      "1\n",
      "[9, 41, 12, 3, 74, 15, 3]\n",
      "2\n"
     ]
    }
   ],
   "source": [
    "# count \n",
    "t = [9, 41, 12, 3, 74, 15]\n",
    "print(t)\n",
    "print(t.count(3))\n",
    "print(t.count(74))\n",
    "t.append(3)\n",
    "print(t)\n",
    "print(t.count(3))"
   ]
  },
  {
   "cell_type": "code",
   "execution_count": null,
   "metadata": {},
   "outputs": [],
   "source": [
    "print(t)\n",
    "t.extend([1, 2, 5]) # similar to t + \n",
    "print(t)"
   ]
  }
 ],
 "metadata": {
  "kernelspec": {
   "display_name": "Python 3",
   "language": "python",
   "name": "python3"
  },
  "language_info": {
   "codemirror_mode": {
    "name": "ipython",
    "version": 3
   },
   "file_extension": ".py",
   "mimetype": "text/x-python",
   "name": "python",
   "nbconvert_exporter": "python",
   "pygments_lexer": "ipython3",
   "version": "3.7.0"
  }
 },
 "nbformat": 4,
 "nbformat_minor": 1
}
